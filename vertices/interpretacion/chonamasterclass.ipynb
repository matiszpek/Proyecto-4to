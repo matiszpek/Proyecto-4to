{
 "cells": [
  {
   "cell_type": "code",
   "execution_count": null,
   "metadata": {},
   "outputs": [],
   "source": [
    "import numpy as np\n",
    "import networkx as nx\n",
    "import matplotlib.pyplot as plt\n"
   ]
  },
  {
   "cell_type": "code",
   "execution_count": null,
   "metadata": {},
   "outputs": [],
   "source": [
    "x=0\n",
    "y=0\n",
    "z=0\n",
    "\n",
    "\n",
    "vistas={\n",
    "    vista_superior: 'superior',\n",
    "    vista_frontal: 'frontal',    \n",
    "    vista_lateral: 'lateral'\n",
    "}\n",
    "\n",
    "# Supongamos que tienes vértices en 2D para las tres vistas: superior, frontal y lateral\n",
    "vertices_superior = np.array([[0, 0, z], [1, 0, z], [0, 1, z], [1, 1, z]])  # Ejemplo vista superior\n",
    "vertices_frontal = np.array([[0, y, 0], [1, y, 0], [0, y, 1], [1, y, 1]])   # Ejemplo vista frontal\n",
    "vertices_lateral = np.array([[x, 0, 0], [x, 1, 0], [x, 0, 1], [x, 1, 1]])   # Ejemplo vista lateral\n",
    "\n",
    "for vista in vistas.items():\n",
    "    for node in vista[vista]:\n",
    "        if vertices_frontal[node] "
   ]
  },
  {
   "cell_type": "code",
   "execution_count": null,
   "metadata": {},
   "outputs": [],
   "source": [
    "from mpl_toolkits.mplot3d import Axes3D\n",
    "\n",
    "fig = plt.figure()\n",
    "ax = fig.add_subplot(111, projection='3d')\n",
    "\n",
    "\n",
    "\n",
    "\n",
    "# Crear los vectores\n",
    "v1 = P2 - P1\n",
    "v2 = P3 - P1\n",
    "\n",
    "# Calcular la normal\n",
    "normal = np.cross(v1, v2)\n",
    "normal_unitario = normal / np.linalg.norm(normal)\n",
    "\n",
    "# Dibujar el triángulo\n",
    "ax.plot([P1[0], P2[0]], [P1[1], P2[1]], [P1[2], P2[2]], 'k-')\n",
    "ax.plot([P2[0], P3[0]], [P2[1], P3[1]], [P2[2], P3[2]], 'k-')\n",
    "ax.plot([P3[0], P1[0]], [P3[1], P1[1]], [P3[2], P1[2]], 'k-')\n",
    "\n",
    "# Dibujar la normal\n",
    "ax.quiver(P1[0], P1[1], P1[2], normal_unitario[0], normal_unitario[1], normal_unitario[2], color='r')\n",
    "\n",
    "ax.set_xlabel('X')\n",
    "ax.set_ylabel('Y')\n",
    "ax.set_zlabel('Z')\n",
    "\n",
    "plt.show()\n"
   ]
  },
  {
   "cell_type": "code",
   "execution_count": null,
   "metadata": {},
   "outputs": [],
   "source": [
    "import numpy as np\n",
    "\n",
    "lado1 = np.array([[1, 1], [1, 2], [2, 2], [2, 1]])\n",
    "lado2 = np.array([[1, 1], [1, 2], [2, 2], [2, 1]])\n",
    "lado3 = np.array([[1, 1], [1, 2], [2, 2], [2, 1]])\n",
    "grafo = {}\n",
    "for nodo in lado1:\n",
    "    nodo_x_y_z = np.append(nodo, -1)\n",
    "    for cosa in lado2:\n",
    "        if lado2[cosa][0] == nodo_x_y_z[0]:  #con x busco z\n",
    "            grafo += [nodo_x_y_z[0], nodo_x_y_z[1], lado2[cosa][1]]\n",
    "    for cosa in lado3:\n",
    "        if lado3[cosa][0]== nodo_x_y_z[1]:  #con y busco z\n",
    "            grafo += [nodo_x_y_z[0], nodo_x_y_z[1], lado3[cosa][1]]\n",
    "            \n",
    "\"\"\"ploteamos el grafo 3d\"\"\"\n",
    "\n"
   ]
  }
 ],
 "metadata": {
  "kernelspec": {
   "display_name": "Python 3",
   "language": "python",
   "name": "python3"
  },
  "language_info": {
   "codemirror_mode": {
    "name": "ipython",
    "version": 3
   },
   "file_extension": ".py",
   "mimetype": "text/x-python",
   "name": "python",
   "nbconvert_exporter": "python",
   "pygments_lexer": "ipython3",
   "version": "3.10.0"
  }
 },
 "nbformat": 4,
 "nbformat_minor": 2
}
